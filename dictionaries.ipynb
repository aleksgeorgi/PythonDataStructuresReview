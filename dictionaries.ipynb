{
 "cells": [
  {
   "cell_type": "markdown",
   "metadata": {},
   "source": [
    "# About Dictionaries\n",
    "Dictionaries (dicts) store an arbitrary number of objects, each identified by a unique dictionary key.\n",
    "\n",
    "Dictionaries are also often called maps, hashmaps, lookup tables, or associative arrays. They allow for the efficient lookup, insertion, and deletion of any object associated with a given key.\n",
    "\n",
    "Valid keys can be of any hashable type\n",
    "- A hashable object has a hash value that never changes during its lifetime, and it can be compared to other objects \n",
    "- Hashable objects that compare as equal must have the same hash value\n",
    "- Immutable types like strings and numbers are hashable and work well as dictionary keys. \n",
    "- You can also use tuple objects as dictionary keys as long as they contain only hashable types themselves."
   ]
  },
  {
   "cell_type": "markdown",
   "metadata": {},
   "source": [
    "---"
   ]
  },
  {
   "cell_type": "markdown",
   "metadata": {},
   "source": [
    "# Performance \n",
    " O(1) time complexity for lookup, insert, update, and delete operations in the average case\n",
    "   \n",
    " ---\n"
   ]
  },
  {
   "cell_type": "markdown",
   "metadata": {},
   "source": [
    "### Basic Dicts"
   ]
  },
  {
   "cell_type": "code",
   "execution_count": 7,
   "metadata": {},
   "outputs": [
    {
     "name": "stdout",
     "output_type": "stream",
     "text": [
      "3719\n"
     ]
    }
   ],
   "source": [
    "phonebook = {\n",
    "    \"bob\" : 7387,\n",
    "    \"alice\" : 3719,\n",
    "    \"jack\": 7052\n",
    "}\n",
    "\n",
    "print(phonebook[\"alice\"])"
   ]
  },
  {
   "cell_type": "markdown",
   "metadata": {},
   "source": [
    "### Dictionary Comprehensions"
   ]
  },
  {
   "cell_type": "code",
   "execution_count": 8,
   "metadata": {},
   "outputs": [
    {
     "name": "stdout",
     "output_type": "stream",
     "text": [
      "{0: 0, 1: 1, 2: 4, 3: 9, 4: 16, 5: 25}\n"
     ]
    }
   ],
   "source": [
    "squares = {x: x*x for x in range(6)}\n",
    "\n",
    "print(squares)"
   ]
  },
  {
   "cell_type": "markdown",
   "metadata": {},
   "source": [
    "# Specialized built-in dictionaries \n",
    "are all based on the built-in dictionary class (and share its performance characteristics) but also include some additional convenience features:\n",
    "- collections.OrderedDict\n",
    "    - remembers the insertion order of keys added to it\n",
    "    - The popitem() method for ordered dictionaries returns and removes a (key, value) pair. The pairs are returned in LIFO order if last is true or FIFO order if false\n",
    "        - popitem(last=True)\n",
    "    - The move_to_end() method moves an existing key to either end of an ordered dictionary. The item is moved to the right end if last is true (the default) or to the beginning if last is false. Raises KeyError if the key does not exist\n",
    "        - move_to_end(key, last=True)\n",
    "- collections.defaultdict\n",
    "    - dict subclass that calls a factory function to supply missing values\n",
    "    - default_factory attribute is used by the __missing__() method; it is initialized from the first argument to the constructor, if present, or to None, if absent. example in d = defaultdict(list), the default_factory is list in this case\n",
    "    - Accessing a Non-Existent Key: When you access dd[\"key1\"], Python checks if \"key1\" exists in the defaultdict. If it does not, it automatically creates a new entry in the defaultdict with the key \"key1\" and an empty list [] as its value. The value associated with dd[\"key1\"] will be an empty list until you add items to it. If you don't add any items, it remains an empty list.\n",
    "\n",
    "- collections.ChainMap\n",
    "    - The collections.ChainMap data structure groups multiple dictionaries into a single mapping. Lookups search the underlying mappings one by one until a key is found. \n",
    "        - Lookups: When you try to access or look up a key in a ChainMap, it searches through the underlying dictionaries/mappings one by one, in the order they were added to the ChainMap, until it finds a key that matches. If the key is found in one of the dictionaries, it returns the value from that dictionary. If the key is not found in any of the dictionaries, a KeyError is raised.\n",
    "        - Insertions, Updates, and Deletions: When you insert a new key-value pair, update an existing key's value, or delete a key in a ChainMap, these operations only affect the first dictionary in the chain. This is a crucial aspect of ChainMap behavior. It does not try to find the key in the chain to update or delete it; it only works with the first dictionary.\n",
    "    \n",
    "https://docs.python.org/3/library/collections.html"
   ]
  },
  {
   "cell_type": "code",
   "execution_count": 31,
   "metadata": {},
   "outputs": [
    {
     "data": {
      "text/plain": [
       "odict_keys(['one', 'two', 'three', 'four'])"
      ]
     },
     "execution_count": 31,
     "metadata": {},
     "output_type": "execute_result"
    }
   ],
   "source": [
    "# collections.OrderedDict\n",
    "import collections\n",
    "d = collections.OrderedDict(one=1, two=2, three=3)\n",
    "\n",
    "d\n",
    "# >>> OrderedDict([('one', 1), ('two', 2), ('three', 3)])\n",
    "\n",
    "d[\"four\"] = 4\n",
    "d\n",
    "# >>> OrderedDict([('one', 1), ('two', 2), ('three', 3), ('four', 4)])\n",
    "\n",
    "d.keys()\n",
    "# >>> odict_keys(['one', 'two', 'three', 'four'])\n"
   ]
  },
  {
   "cell_type": "code",
   "execution_count": 19,
   "metadata": {},
   "outputs": [
    {
     "name": "stdout",
     "output_type": "stream",
     "text": [
      "[]\n",
      "defaultdict(<class 'list'>, {'key1': []})\n"
     ]
    }
   ],
   "source": [
    "from collections import defaultdict\n",
    "\n",
    "dd = defaultdict(list)\n",
    "\n",
    "# Accessing a missing key creates it and\n",
    "# initializes it using the default factory,\n",
    "# i.e. list() in this example:\n",
    "dd[\"dogs\"].append(\"Rufus\")\n",
    "dd[\"dogs\"].append(\"Kathrin\")\n",
    "dd[\"dogs\"].append(\"Mr Sniffles\")\n",
    "\n",
    "dd[\"dogs\"]\n",
    "# >>> ['Rufus', 'Kathrin', 'Mr Sniffles']\n",
    "\n",
    "# ---------- accessing empty values ----------\n",
    "\n",
    "d = defaultdict(list)\n",
    "\n",
    "# Accessing a non-existent key 'key1'\n",
    "print(d[\"key1\"])  # This will print an empty list: []\n",
    "\n",
    "# Since 'key1' was accessed, it now exists in the defaultdict with an empty list as its value\n",
    "print(d)  # This will show: defaultdict(<class 'list'>, {'key1': []})"
   ]
  },
  {
   "cell_type": "code",
   "execution_count": 17,
   "metadata": {},
   "outputs": [
    {
     "name": "stdout",
     "output_type": "stream",
     "text": [
      "2\n"
     ]
    },
    {
     "ename": "KeyError",
     "evalue": "\"Key not found in the first mapping: 'c'\"",
     "output_type": "error",
     "traceback": [
      "\u001b[0;31m---------------------------------------------------------------------------\u001b[0m",
      "\u001b[0;31mKeyError\u001b[0m                                  Traceback (most recent call last)",
      "File \u001b[0;32m/usr/local/Cellar/python@3.11/3.11.4_1/Frameworks/Python.framework/Versions/3.11/lib/python3.11/collections/__init__.py:1060\u001b[0m, in \u001b[0;36mChainMap.__delitem__\u001b[0;34m(self, key)\u001b[0m\n\u001b[1;32m   1059\u001b[0m \u001b[38;5;28;01mtry\u001b[39;00m:\n\u001b[0;32m-> 1060\u001b[0m     \u001b[38;5;28;01mdel\u001b[39;00m \u001b[38;5;28;43mself\u001b[39;49m\u001b[38;5;241;43m.\u001b[39;49m\u001b[43mmaps\u001b[49m\u001b[43m[\u001b[49m\u001b[38;5;241;43m0\u001b[39;49m\u001b[43m]\u001b[49m\u001b[43m[\u001b[49m\u001b[43mkey\u001b[49m\u001b[43m]\u001b[49m\n\u001b[1;32m   1061\u001b[0m \u001b[38;5;28;01mexcept\u001b[39;00m \u001b[38;5;167;01mKeyError\u001b[39;00m:\n",
      "\u001b[0;31mKeyError\u001b[0m: 'c'",
      "\nDuring handling of the above exception, another exception occurred:\n",
      "\u001b[0;31mKeyError\u001b[0m                                  Traceback (most recent call last)",
      "Cell \u001b[0;32mIn[17], line 21\u001b[0m\n\u001b[1;32m     18\u001b[0m chain[\u001b[38;5;124m'\u001b[39m\u001b[38;5;124md\u001b[39m\u001b[38;5;124m'\u001b[39m] \u001b[38;5;241m=\u001b[39m \u001b[38;5;241m5\u001b[39m  \u001b[38;5;66;03m# This adds 'd' to dict1\u001b[39;00m\n\u001b[1;32m     20\u001b[0m \u001b[38;5;66;03m# Deletion (delete 'c' in the chain)\u001b[39;00m\n\u001b[0;32m---> 21\u001b[0m \u001b[38;5;28;01mdel\u001b[39;00m \u001b[43mchain\u001b[49m\u001b[43m[\u001b[49m\u001b[38;5;124;43m'\u001b[39;49m\u001b[38;5;124;43mc\u001b[39;49m\u001b[38;5;124;43m'\u001b[39;49m\u001b[43m]\u001b[49m  \u001b[38;5;66;03m# This raises a KeyError because 'c' is not in the first dictionary (dict1)\u001b[39;00m\n\u001b[1;32m     23\u001b[0m \u001b[38;5;28mprint\u001b[39m(dict1)  \u001b[38;5;66;03m# Output: {'a': 10, 'b': 2, 'd': 5}\u001b[39;00m\n\u001b[1;32m     24\u001b[0m \u001b[38;5;28mprint\u001b[39m(dict2)  \u001b[38;5;66;03m# Output: {'b': 3, 'c': 4} - remains unchanged\u001b[39;00m\n",
      "File \u001b[0;32m/usr/local/Cellar/python@3.11/3.11.4_1/Frameworks/Python.framework/Versions/3.11/lib/python3.11/collections/__init__.py:1062\u001b[0m, in \u001b[0;36mChainMap.__delitem__\u001b[0;34m(self, key)\u001b[0m\n\u001b[1;32m   1060\u001b[0m     \u001b[38;5;28;01mdel\u001b[39;00m \u001b[38;5;28mself\u001b[39m\u001b[38;5;241m.\u001b[39mmaps[\u001b[38;5;241m0\u001b[39m][key]\n\u001b[1;32m   1061\u001b[0m \u001b[38;5;28;01mexcept\u001b[39;00m \u001b[38;5;167;01mKeyError\u001b[39;00m:\n\u001b[0;32m-> 1062\u001b[0m     \u001b[38;5;28;01mraise\u001b[39;00m \u001b[38;5;167;01mKeyError\u001b[39;00m(\u001b[38;5;124mf\u001b[39m\u001b[38;5;124m'\u001b[39m\u001b[38;5;124mKey not found in the first mapping: \u001b[39m\u001b[38;5;132;01m{\u001b[39;00mkey\u001b[38;5;132;01m!r}\u001b[39;00m\u001b[38;5;124m'\u001b[39m)\n",
      "\u001b[0;31mKeyError\u001b[0m: \"Key not found in the first mapping: 'c'\""
     ]
    }
   ],
   "source": [
    "from collections import ChainMap\n",
    "\n",
    "# Two separate dictionaries\n",
    "dict1 = {'a': 1, 'b': 2}\n",
    "dict2 = {'b': 3, 'c': 4}\n",
    "\n",
    "# Create a ChainMap grouping dict1 and dict2\n",
    "chain = ChainMap(dict1, dict2)\n",
    "# >>> ChainMap({'a': 1, 'b': 2}, {'b': 3, 'c': 4})\n",
    "\n",
    "# Lookup (search for 'b' in the chain)\n",
    "print(chain['b'])  # Output: 2 (found in dict1, so dict2 is not checked)\n",
    "\n",
    "# Update (update 'a' in the chain)\n",
    "chain['a'] = 10  # This updates 'a' in dict1\n",
    "\n",
    "# Insertion (insert 'd' in the chain)\n",
    "chain['d'] = 5  # This adds 'd' to dict1\n",
    "\n",
    "# Deletion (delete 'c' in the chain)\n",
    "del chain['c']  # This raises a KeyError because 'c' is not in the first dictionary (dict1)\n",
    "\n",
    "print(dict1)  # Output: {'a': 10, 'b': 2, 'd': 5}\n",
    "print(dict2)  # Output: {'b': 3, 'c': 4} - remains unchanged\n"
   ]
  },
  {
   "cell_type": "markdown",
   "metadata": {},
   "source": [
    "# Iteration\n",
    "(for accessing data, transforming it, or filtering it)"
   ]
  },
  {
   "cell_type": "code",
   "execution_count": 30,
   "metadata": {},
   "outputs": [
    {
     "name": "stdout",
     "output_type": "stream",
     "text": [
      "a\n",
      "b\n",
      "c\n"
     ]
    }
   ],
   "source": [
    "# Iterating Over Keys \n",
    "\n",
    "my_dict = {\"a\": 1, \"b\": 2, \"c\": 3}\n",
    "\n",
    "for key in my_dict:\n",
    "# equivalent to for key in my_dict.keys() (defaults to iterating over the keys)\n",
    "    print(key)  # Outputs 'a', 'b', 'c'\n"
   ]
  },
  {
   "cell_type": "code",
   "execution_count": 22,
   "metadata": {},
   "outputs": [
    {
     "name": "stdout",
     "output_type": "stream",
     "text": [
      "1\n",
      "2\n",
      "3\n"
     ]
    }
   ],
   "source": [
    "# Iterating Over Values\n",
    "\n",
    "my_dict = {\"a\": 1, \"b\": 2, \"c\": 3}\n",
    "\n",
    "for value in my_dict.values():\n",
    "    print(value)  # Outputs 1, 2, 3\n"
   ]
  },
  {
   "cell_type": "code",
   "execution_count": 23,
   "metadata": {},
   "outputs": [
    {
     "name": "stdout",
     "output_type": "stream",
     "text": [
      "a 1\n",
      "b 2\n",
      "c 3\n"
     ]
    }
   ],
   "source": [
    "# Iterating Over Key-Value Pairs\n",
    "\n",
    "# To iterate over both keys and values at the same time, \n",
    "# use the .items() method, which returns a tuple of key and value.\n",
    "\n",
    "for key, value in my_dict.items():\n",
    "    print(key, value)  # Outputs 'a' 1, 'b' 2, 'c' 3\n",
    "\n"
   ]
  },
  {
   "cell_type": "code",
   "execution_count": 24,
   "metadata": {},
   "outputs": [
    {
     "name": "stdout",
     "output_type": "stream",
     "text": [
      "0 a 1\n",
      "1 b 2\n",
      "2 c 3\n"
     ]
    }
   ],
   "source": [
    "# Iterating with Index\n",
    "\n",
    "# If you need the index during iteration (like when using a for loop with a range), \n",
    "# you can use enumerate() on the .items() method\n",
    "\n",
    "for index, (key, value) in enumerate(my_dict.items()):\n",
    "    print(index, key, value)  # Outputs index and key-value pairs\n"
   ]
  },
  {
   "cell_type": "markdown",
   "metadata": {},
   "source": [
    "# Transformation"
   ]
  },
  {
   "cell_type": "code",
   "execution_count": 26,
   "metadata": {},
   "outputs": [
    {
     "data": {
      "text/plain": [
       "{'a': 2, 'b': 4, 'c': 6}"
      ]
     },
     "execution_count": 26,
     "metadata": {},
     "output_type": "execute_result"
    }
   ],
   "source": [
    "# Using Comprehensions\n",
    "# Dictionary comprehensions can be used for creating new dictionaries from existing ones\n",
    "\n",
    "new_dict = {k: v * 2 for k, v in my_dict.items()}\n",
    "new_dict"
   ]
  },
  {
   "cell_type": "code",
   "execution_count": 29,
   "metadata": {},
   "outputs": [
    {
     "name": "stdout",
     "output_type": "stream",
     "text": [
      "2\n",
      "4\n",
      "6\n"
     ]
    }
   ],
   "source": [
    "# Using map() to apply a function to each value\n",
    "\n",
    "for value in map(lambda x: x * 2, my_dict.values()):\n",
    "    print(value)"
   ]
  },
  {
   "cell_type": "markdown",
   "metadata": {},
   "source": [
    "# Filtering"
   ]
  },
  {
   "cell_type": "code",
   "execution_count": 27,
   "metadata": {},
   "outputs": [
    {
     "name": "stdout",
     "output_type": "stream",
     "text": [
      "b 2\n",
      "c 3\n"
     ]
    }
   ],
   "source": [
    "# To iterate through a dictionary and filter its contents, \n",
    "# you can combine a for loop with an if statement\n",
    "\n",
    "for key, value in my_dict.items():\n",
    "    if value > 1:\n",
    "        print(key, value)  # Filters and prints key-value pairs where value > 1\n"
   ]
  },
  {
   "cell_type": "code",
   "execution_count": 28,
   "metadata": {},
   "outputs": [
    {
     "name": "stdout",
     "output_type": "stream",
     "text": [
      "a\n"
     ]
    }
   ],
   "source": [
    "# Using filter() to filter based on a condition\n",
    "\n",
    "for key in filter(lambda k: \"a\" in k, my_dict.keys()):\n",
    "    print(key)"
   ]
  },
  {
   "cell_type": "markdown",
   "metadata": {},
   "source": [
    "# Specialized third-party dictionaries:\n",
    "- skip lists \n",
    "    - Skip lists are a data structure that can be used in place of balanced trees. Skip lists use probabilistic balancing rather than strictly enforced balancing and as a result the algorithms for insertion and deletion in skip lists are much simpler and significantly faster than equivalent algorithms for balanced trees.\n",
    "    - https://skiplist.readthedocs.io/en/latest/introduction.html\n",
    "- B-tree–based dictionaries\n",
    "    - BTrees are a balanced tree data structure that behave like a mapping but distribute keys throughout a number of tree nodes. The nodes are stored in sorted order (this has important consequences – see below). Nodes are then only unpickled and brought into memory as they’re accessed, so the entire tree doesn’t have to occupy memory (unless you really are touching every single key). \n",
    "    - https://btrees.readthedocs.io/en/latest/overview.html\n"
   ]
  }
 ],
 "metadata": {
  "kernelspec": {
   "display_name": "Python 3",
   "language": "python",
   "name": "python3"
  },
  "language_info": {
   "codemirror_mode": {
    "name": "ipython",
    "version": 3
   },
   "file_extension": ".py",
   "mimetype": "text/x-python",
   "name": "python",
   "nbconvert_exporter": "python",
   "pygments_lexer": "ipython3",
   "version": "3.11.4"
  }
 },
 "nbformat": 4,
 "nbformat_minor": 2
}
