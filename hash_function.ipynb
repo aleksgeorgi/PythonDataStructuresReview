{
 "cells": [
  {
   "cell_type": "markdown",
   "metadata": {},
   "source": [
    "# About Hash Functions\n",
    "\n",
    "The hash() function in python is used to return a hashed integer value of the object we pass as a parameter into it iff the object is hashable. Generally, the hash values are used to compare the dictionary keys while doing a dictionary lookup.\n",
    "\n",
    "Syntax for using the hash() function is as follows:  \n",
    "hash(object)\n",
    "\n",
    "The integer value is returned from the hash function, which is the hashed value of the object. The hashed values are generally used for the faster comparison between the two objects as the hash values are directly compared rather than comparing each object's value.\n"
   ]
  },
  {
   "cell_type": "code",
   "execution_count": 1,
   "metadata": {},
   "outputs": [
    {
     "data": {
      "text/plain": [
       "279906812"
      ]
     },
     "execution_count": 1,
     "metadata": {},
     "output_type": "execute_result"
    }
   ],
   "source": [
    "hash(object)\n"
   ]
  },
  {
   "cell_type": "markdown",
   "metadata": {},
   "source": [
    "### Summary\n",
    "- hash() function is used to fetch the hash values of the python objects\n",
    "- hash() function returns the integer value if the hashable object passed in the function as a parameter.\n",
    "- hash() function calls inbuilt __hash__() function which can be overriden for hashing the custom objects.\n",
    "- hash() function can be applied to immutable objects.\n",
    "- hash() function cannot be applied to mutable objects.\n"
   ]
  },
  {
   "cell_type": "markdown",
   "metadata": {},
   "source": []
  }
 ],
 "metadata": {
  "kernelspec": {
   "display_name": "Python 3",
   "language": "python",
   "name": "python3"
  },
  "language_info": {
   "codemirror_mode": {
    "name": "ipython",
    "version": 3
   },
   "file_extension": ".py",
   "mimetype": "text/x-python",
   "name": "python",
   "nbconvert_exporter": "python",
   "pygments_lexer": "ipython3",
   "version": "3.11.4"
  }
 },
 "nbformat": 4,
 "nbformat_minor": 2
}
