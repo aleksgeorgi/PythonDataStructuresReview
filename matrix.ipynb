{
 "cells": [
  {
   "cell_type": "code",
   "execution_count": 11,
   "metadata": {},
   "outputs": [
    {
     "name": "stdout",
     "output_type": "stream",
     "text": [
      "[[ 1  2  3  4]\n",
      " [ 4 55  1  2]\n",
      " [ 8  3 20 19]\n",
      " [11  2 22 21]]\n",
      "\n",
      "Accessing Elements\n",
      "[ 4 55  1  2]\n",
      "8\n"
     ]
    }
   ],
   "source": [
    "import numpy as np\n",
    " \n",
    "a = np.array([[1,2,3,4],[4,55,1,2],\n",
    "              [8,3,20,19],[11,2,22,21]])\n",
    "m = np.reshape(a,(4, 4))\n",
    "print(m)\n",
    " \n",
    "# Accessing element\n",
    "print(\"\\nAccessing Elements\")\n",
    "print(a[1])\n",
    "print(a[2][0])\n",
    " \n"
   ]
  },
  {
   "cell_type": "code",
   "execution_count": 12,
   "metadata": {},
   "outputs": [
    {
     "name": "stdout",
     "output_type": "stream",
     "text": [
      "\n",
      "Adding Element\n",
      "[ 1  2  3  4  4 55  1  2  8  3 20 19 11  2 22 21  1 15 13 11]\n"
     ]
    }
   ],
   "source": [
    "# Adding Element\n",
    "m = np.append(m,[[1, 15,13,11]])\n",
    "# m = np.reshape(m, (4,5))\n",
    "print(\"\\nAdding Element\")\n",
    "print(m)"
   ]
  },
  {
   "cell_type": "code",
   "execution_count": 14,
   "metadata": {},
   "outputs": [
    {
     "name": "stdout",
     "output_type": "stream",
     "text": [
      "[[ 1  2  3  4]\n",
      " [ 4 55  1  2]\n",
      " [ 8  3 20 19]\n",
      " [11  2 22 21]\n",
      " [ 1 15 13 11]]\n"
     ]
    }
   ],
   "source": [
    "m = np.reshape(m, (5,4))\n",
    "print(m)"
   ]
  },
  {
   "cell_type": "code",
   "execution_count": 15,
   "metadata": {},
   "outputs": [
    {
     "name": "stdout",
     "output_type": "stream",
     "text": [
      "\n",
      "Deleting Element\n",
      "[[ 1  2  3  4]\n",
      " [ 8  3 20 19]\n",
      " [11  2 22 21]\n",
      " [ 1 15 13 11]]\n"
     ]
    }
   ],
   "source": [
    "# Deleting Element\n",
    "m = np.delete(m,[1],0)\n",
    "print(\"\\nDeleting Element\")\n",
    "print(m)"
   ]
  }
 ],
 "metadata": {
  "kernelspec": {
   "display_name": "Python 3",
   "language": "python",
   "name": "python3"
  },
  "language_info": {
   "codemirror_mode": {
    "name": "ipython",
    "version": 3
   },
   "file_extension": ".py",
   "mimetype": "text/x-python",
   "name": "python",
   "nbconvert_exporter": "python",
   "pygments_lexer": "ipython3",
   "version": "3.11.4"
  }
 },
 "nbformat": 4,
 "nbformat_minor": 2
}
